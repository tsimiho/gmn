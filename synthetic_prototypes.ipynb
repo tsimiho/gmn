{
 "cells": [
  {
   "cell_type": "code",
   "execution_count": 9,
   "metadata": {},
   "outputs": [],
   "source": [
    "import torch\n",
    "from custom.utils import *\n",
    "from custom.dataset import *\n",
    "from torch_geometric.utils import from_networkx"
   ]
  },
  {
   "cell_type": "markdown",
   "metadata": {},
   "source": [
    "graphs in pyg format\n",
    "\n",
    "gmn_prototypes: list of (gmn_prototype, ground_truth_prototype)\n",
    "\n",
    "other_prototypes: list of (original_graph, protgnn_prototype, gnnexplainer_prototype, ground_truth_prototype)\n"
   ]
  },
  {
   "cell_type": "code",
   "execution_count": 23,
   "metadata": {},
   "outputs": [],
   "source": [
    "gmn_prototypes, other_prototypes = torch.load(\n",
    "    \"synthetic_prototypes.pt\", weights_only=False\n",
    ")\n",
    "\n",
    "gmn_nx = [\n",
    "    tuple(to_networkx(g, to_undirected=True) for g in graphs)\n",
    "    for graphs in gmn_prototypes\n",
    "]\n",
    "\n",
    "other_nx = [\n",
    "    tuple(to_networkx(g, to_undirected=True) for g in graphs)\n",
    "    for graphs in other_prototypes\n",
    "]"
   ]
  }
 ],
 "metadata": {
  "kernelspec": {
   "display_name": "Python 3",
   "language": "python",
   "name": "python3"
  },
  "language_info": {
   "codemirror_mode": {
    "name": "ipython",
    "version": 3
   },
   "file_extension": ".py",
   "mimetype": "text/x-python",
   "name": "python",
   "nbconvert_exporter": "python",
   "pygments_lexer": "ipython3",
   "version": "3.10.15"
  }
 },
 "nbformat": 4,
 "nbformat_minor": 2
}
