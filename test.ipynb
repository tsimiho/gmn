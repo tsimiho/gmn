{
 "cells": [
  {
   "cell_type": "code",
   "execution_count": 8,
   "metadata": {},
   "outputs": [],
   "source": [
    "import random\n",
    "import torch\n",
    "from sklearn.metrics import accuracy_score, f1_score\n",
    "from torch.nn import functional as F\n",
    "from torch.optim import Adam\n",
    "from torch_geometric.data import Batch, Data\n",
    "from torch_geometric.datasets import TUDataset, GeometricShapes, Entities\n",
    "from torch_geometric.loader import DataLoader\n",
    "from torch_geometric.nn import BatchNorm, MessagePassing\n",
    "from torch_geometric.transforms import NormalizeFeatures\n",
    "from torch_scatter import scatter_mean\n",
    "import matplotlib.pyplot as plt\n",
    "from collections import Counter\n",
    "from sklearn.model_selection import train_test_split\n",
    "from torch_geometric.nn.pool import graclus\n",
    "import networkx as nx\n",
    "from torch_geometric.utils import to_networkx\n",
    "import numpy as np\n",
    "from community import community_louvain\n",
    "from torch_geometric.utils import to_scipy_sparse_matrix\n",
    "from sklearn.cluster import SpectralClustering, DBSCAN"
   ]
  },
  {
   "cell_type": "code",
   "execution_count": 9,
   "metadata": {},
   "outputs": [
    {
     "name": "stderr",
     "output_type": "stream",
     "text": [
      "Downloading https://www.chrsmrrs.com/graphkerneldatasets/MUTAG.zip\n",
      "Extracting data/MUTAG/MUTAG.zip\n",
      "Processing...\n",
      "Done!\n"
     ]
    }
   ],
   "source": [
    "dataset = TUDataset(\n",
    "    root=\"data\", name=\"MUTAG\", transform=NormalizeFeatures()\n",
    ")"
   ]
  },
  {
   "cell_type": "code",
   "execution_count": 10,
   "metadata": {},
   "outputs": [
    {
     "name": "stdout",
     "output_type": "stream",
     "text": [
      "tensor([2, 2, 2, 2, 2, 2, 1, 2, 2, 2, 1, 0, 0])\n"
     ]
    }
   ],
   "source": [
    "def cdm(node_embeddings, tau=0.5, epsilon=1e-5):\n",
    "    q_tilde = F.softmax(node_embeddings, dim=1)\n",
    "    q = q_tilde / (q_tilde.max(dim=1, keepdim=True).values + epsilon)\n",
    "    r = (q >= tau).float()\n",
    "    unique_encodings, cluster_ids = torch.unique(r, return_inverse=True, dim=0)\n",
    "    return cluster_ids\n",
    "\n",
    "\n",
    "print(cdm(dataset[1].x))"
   ]
  }
 ],
 "metadata": {
  "kernelspec": {
   "display_name": "Python 3",
   "language": "python",
   "name": "python3"
  },
  "language_info": {
   "codemirror_mode": {
    "name": "ipython",
    "version": 3
   },
   "file_extension": ".py",
   "mimetype": "text/x-python",
   "name": "python",
   "nbconvert_exporter": "python",
   "pygments_lexer": "ipython3",
   "version": "3.11.8"
  }
 },
 "nbformat": 4,
 "nbformat_minor": 2
}
