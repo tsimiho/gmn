{
 "cells": [
  {
   "cell_type": "code",
   "execution_count": 2,
   "metadata": {},
   "outputs": [],
   "source": [
    "import numpy as np\n",
    "import pickle\n",
    "import json\n",
    "\n",
    "# Load the edge index\n",
    "edge_index = np.loadtxt(\"Graph-SST2/raw/Graph-SST2_edge_index.txt\", dtype=int)\n",
    "\n",
    "# Load the graph labels (targets)\n",
    "graph_labels = np.loadtxt(\"Graph-SST2/raw/Graph-SST2_graph_labels.txt\", dtype=int)\n",
    "\n",
    "# Load node features\n",
    "with open(\"Graph-SST2/raw/Graph-SST2_node_features.pkl\", \"rb\") as f:\n",
    "    node_features = pickle.load(f)\n",
    "\n",
    "# Load the node indicator (which graph each node belongs to)\n",
    "node_indicator = np.loadtxt(\"Graph-SST2/raw/Graph-SST2_node_indicator.txt\", dtype=int)\n",
    "\n",
    "# Load the sentence tokens (optional, only if you need them)\n",
    "with open(\"Graph-SST2/raw/Graph-SST2_sentence_tokens.json\") as f:\n",
    "    sentence_tokens = json.load(f)\n",
    "\n",
    "# Load the split indices\n",
    "split_indices = np.loadtxt(\"Graph-SST2/raw/Graph-SST2_split_indices.txt\", dtype=int)"
   ]
  },
  {
   "cell_type": "code",
   "execution_count": 6,
   "metadata": {},
   "outputs": [],
   "source": [
    "from random import sample\n",
    "import random\n",
    "import networkx as nx\n",
    "\n",
    "# Assuming you have 2 classes (0 and 1)\n",
    "class_0_indices = np.where(graph_labels == 0)[0]\n",
    "class_1_indices = np.where(graph_labels == 1)[0]\n",
    "\n",
    "# Randomly sample 5 prototype graphs from each class\n",
    "prototype_class_0 = sample(list(class_0_indices), 5)\n",
    "prototype_class_1 = sample(list(class_1_indices), 5)\n",
    "\n",
    "# Combine the prototypes\n",
    "prototypes = {0: prototype_class_0, 1: prototype_class_1}"
   ]
  },
  {
   "cell_type": "code",
   "execution_count": 8,
   "metadata": {},
   "outputs": [],
   "source": [
    "from custom.utils import *"
   ]
  },
  {
   "cell_type": "code",
   "execution_count": 13,
   "metadata": {},
   "outputs": [],
   "source": [
    "import networkx as nx\n",
    "import random\n",
    "import numpy as np\n",
    "\n",
    "\n",
    "def perturb_graph(edge_index, node_indicator, prototype_idx, num_perturbations=20):\n",
    "    perturbed_graphs = []\n",
    "\n",
    "    # Get the nodes that belong to the prototype graph\n",
    "    prototype_nodes = np.where(node_indicator == prototype_idx)[0]\n",
    "\n",
    "    # Filter edges where both nodes belong to the prototype graph\n",
    "    mask = np.isin(edge_index[0], prototype_nodes) & np.isin(\n",
    "        edge_index[1], prototype_nodes\n",
    "    )\n",
    "    prototype_edges = edge_index[:, mask]\n",
    "\n",
    "    # Create a graph for the prototype in NetworkX format (undirected by default)\n",
    "    G = nx.Graph()\n",
    "    G.add_edges_from(prototype_edges.T)\n",
    "\n",
    "    for _ in range(num_perturbations):\n",
    "        # Create a copy of the original graph to perturb\n",
    "        G_perturbed = G.copy()\n",
    "\n",
    "        # Randomly remove or add some edges/nodes\n",
    "        for _ in range(random.randint(1, 5)):  # 1 to 5 perturbations\n",
    "            if random.random() > 0.5:\n",
    "                # Randomly remove an edge if there are edges to remove\n",
    "                if len(G_perturbed.edges) > 0:\n",
    "                    edge_to_remove = random.choice(list(G_perturbed.edges))\n",
    "                    G_perturbed.remove_edge(*edge_to_remove)\n",
    "            else:\n",
    "                # Randomly add a new undirected edge between existing nodes\n",
    "                node_a = random.choice(prototype_nodes)\n",
    "                node_b = random.choice(prototype_nodes)\n",
    "                if node_a != node_b and not G_perturbed.has_edge(node_a, node_b):\n",
    "                    G_perturbed.add_edge(node_a, node_b)\n",
    "\n",
    "        # Append the perturbed graph (still in NetworkX format)\n",
    "        perturbed_graphs.append(G_perturbed)\n",
    "\n",
    "    return perturbed_graphs\n",
    "\n",
    "\n",
    "# Generate perturbed versions for each prototype in NetworkX format\n",
    "perturbed_graphs_class_0 = [\n",
    "    perturb_graph(edge_index, node_indicator, idx, num_perturbations=20)\n",
    "    for idx in prototype_class_0\n",
    "]\n",
    "\n",
    "perturbed_graphs_class_1 = [\n",
    "    perturb_graph(edge_index, node_indicator, idx, num_perturbations=20)\n",
    "    for idx in prototype_class_1\n",
    "]\n",
    "\n",
    "# Now you have lists of perturbed undirected NetworkX graphs for both classes"
   ]
  },
  {
   "cell_type": "code",
   "execution_count": 16,
   "metadata": {},
   "outputs": [
    {
     "data": {
      "image/png": "[encoded data removed]",
      "text/plain": [
       "<Figure size 640x480 with 1 Axes>"
      ]
     },
     "metadata": {},
     "output_type": "display_data"
    }
   ],
   "source": [
    "nx.draw(\n",
    "    (perturbed_graphs_class_0[0][1]),\n",
    "    with_labels=False,\n",
    "    node_color=\"#3b8bc2\",\n",
    "    node_size=500,\n",
    "    edge_color=\"k\",\n",
    "    linewidths=2,\n",
    "    font_size=15,\n",
    ")"
   ]
  }
 ],
 "metadata": {
  "kernelspec": {
   "display_name": "Python 3",
   "language": "python",
   "name": "python3"
  },
  "language_info": {
   "codemirror_mode": {
    "name": "ipython",
    "version": 3
   },
   "file_extension": ".py",
   "mimetype": "text/x-python",
   "name": "python",
   "nbconvert_exporter": "python",
   "pygments_lexer": "ipython3",
   "version": "3.10.15"
  }
 },
 "nbformat": 4,
 "nbformat_minor": 2
}
